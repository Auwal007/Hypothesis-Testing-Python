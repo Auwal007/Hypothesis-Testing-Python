{
 "cells": [
  {
   "cell_type": "markdown",
   "id": "921df215-a171-4c53-aff0-6e6a41ca1bb5",
   "metadata": {},
   "source": [
    "# Python Playground: Calculating Z-Scores\r\n",
    "\r\n",
    "Python's scipy library makes calculating Z-scores very easy. You can calculate Z-scores for an entire array of data or manually for a single point.\r\n"
   ]
  },
  {
   "cell_type": "code",
   "execution_count": 3,
   "id": "20fb1b0e-164a-4b59-9390-28e0adf33083",
   "metadata": {},
   "outputs": [
    {
     "name": "stdout",
     "output_type": "stream",
     "text": [
      "Original Scores: [ 55  60  65  70  75  80  85  90  95 100]\n",
      "Mean Score: 77.50\n",
      "Standard Deviation of Scores: 14.36\n",
      "\n",
      "Z-scores (using scipy): [-1.57 -1.22 -0.87 -0.52 -0.17  0.17  0.52  0.87  1.22  1.57]\n",
      "Z-score for score 70 (manual): -0.52\n"
     ]
    }
   ],
   "source": [
    "import numpy as np\n",
    "from scipy import stats\n",
    "\n",
    "# Sample data (e.g., test scores of students)\n",
    "\n",
    "\n",
    "scores = np.array([55, 60, 65, 70, 75, 80, 85, 90, 95, 100])\n",
    "mean_score = np.mean(scores)\n",
    "std_dev_scores = np.std(scores, ddof=0) # Using ddof=0 for population std dev for simplicity in this example\n",
    "\n",
    "print(f\"Original Scores: {scores}\")\n",
    "print(f\"Mean Score: {mean_score:.2f}\")\n",
    "print(f\"Standard Deviation of Scores: {std_dev_scores:.2f}\")\n",
    "\n",
    "# Calculate Z-scores for each score using scipy's zscore function\n",
    "z_scores_scipy = stats.zscore(scores)\n",
    "print(f\"\\nZ-scores (using scipy): {z_scores_scipy.round(2)}\")\n",
    "\n",
    "# Manual calculation for a specific score (e.g., score of 70)\n",
    "specific_score = scores[3]\n",
    "z_score_manual = (specific_score - mean_score) / std_dev_scores\n",
    "print(f\"Z-score for score {specific_score} (manual): {z_score_manual:.2f}\")\n",
    "\n",
    "# Interpretation example\n",
    "# If a student's test score has a Z-score of -2, it means the score is 2 standard deviations below the mean.\n",
    "# Conversely, a Z-score of +1.5 indicates a score 1.5 standard deviations above the mean, which could imply exceptional performance.[10]\n"
   ]
  },
  {
   "cell_type": "markdown",
   "id": "ca66d434-04b4-4279-ad13-0138899e3d03",
   "metadata": {},
   "source": [
    "# Python Playground: Calculating p-Values\n",
    "\n",
    "Python's scipy.stats module provides functions to calculate p-values from Z-scores (and other test statistics). The norm.sf() function (survival function) is particularly useful as it calculates the probability of a value being greater than a given Z-score, which is helpful for right-tailed tests. For left-tailed tests, we use the absolute value of the Z-score due to symmetry. For two-tailed tests, we multiply the one-tailed probability by 2.\n"
   ]
  },
  {
   "cell_type": "code",
   "execution_count": 5,
   "id": "8b20580f-020a-4e62-a5e3-03db1296e56b",
   "metadata": {},
   "outputs": [
    {
     "name": "stdout",
     "output_type": "stream",
     "text": [
      "P-value for Z-score 1.67 (Right-tailed): 0.0475\n"
     ]
    }
   ],
   "source": [
    "from scipy import stats\n",
    "import numpy as np\n",
    "\n",
    "# Let's assume we have calculated Z-scores from our data.\n",
    "\n",
    "# Example 1: P-value for a Right-tailed test\n",
    "# Scenario: Testing if a new teaching method *increases* test scores.\n",
    "# H0: New method has no effect (score <= baseline)\n",
    "# Ha: New method *increases* scores (score > baseline)\n",
    "# Assume our calculated Z-score is 1.67\n",
    "\n",
    "z_score_right = 1.67\n",
    "p_value_right = stats.norm.sf(z_score_right) # sf gives P(Z > z_score)\n",
    "print(f\"P-value for Z-score {z_score_right} (Right-tailed): {p_value_right:.4f}\")\n",
    "\n",
    "# Decision: If alpha = 0.05, p_value (0.0475) < alpha, so reject H0.\n",
    "# Conclusion: There's evidence the new method increases scores.\n",
    "\n"
   ]
  },
  {
   "cell_type": "code",
   "execution_count": 6,
   "id": "7313815a-6a3f-4567-bc68-a5f62b7f1e6d",
   "metadata": {},
   "outputs": [
    {
     "name": "stdout",
     "output_type": "stream",
     "text": [
      "P-value for Z-score -0.67 (Left-tailed): 0.2514\n"
     ]
    }
   ],
   "source": [
    "# Example 2: P-value for a Left-tailed test\n",
    "# Scenario: Testing if a new drug *decreases* cholesterol levels.\n",
    "# H0: New drug has no effect (cholesterol >= baseline)\n",
    "# Ha: New drug *decreases* cholesterol (cholesterol < baseline)\n",
    "# Assume our calculated Z-score is -0.67\n",
    "\n",
    "z_score_left = -0.67\n",
    "# For a left-tailed test, we're interested in the area to the left of -0.67.\n",
    "# Due to symmetry of the normal distribution, this is equivalent to the area to the right of +0.67.\n",
    "\n",
    "p_value_left = stats.norm.sf(abs(z_score_left))\n",
    "print(f\"P-value for Z-score {z_score_left} (Left-tailed): {p_value_left:.4f}\")\n",
    "\n",
    "# Decision: If alpha = 0.05, p_value (0.2514) > alpha, so fail to reject H0.\n",
    "# Conclusion: No significant evidence the new drug decreases cholesterol."
   ]
  },
  {
   "cell_type": "code",
   "execution_count": 8,
   "id": "79ed07c0-b52a-49c2-92da-f846d5428825",
   "metadata": {},
   "outputs": [
    {
     "name": "stdout",
     "output_type": "stream",
     "text": [
      "P-value for Z-score 1.8 (Two-tailed): 0.0719\n"
     ]
    }
   ],
   "source": [
    "# Example 3: P-value for a Two-tailed test\n",
    "# Scenario: Testing if a coin is *not* fair (could be biased either way).\n",
    "# H0: Coin is fair (p = 0.5)\n",
    "# Ha: Coin is not fair (p!= 0.5)\n",
    "# Assume our calculated Z-score is 1.8 (could be -1.8 as well, we use abs for calculation)\n",
    "\n",
    "z_score_two_tailed = 1.8\n",
    "\n",
    "\n",
    "# For a two-tailed test, we consider extreme values in both directions.\n",
    "# So, we find the area in one tail and multiply by 2.\n",
    "\n",
    "p_value_two_tailed = stats.norm.sf(abs(z_score_two_tailed)) * 2\n",
    "print(f\"P-value for Z-score {z_score_two_tailed} (Two-tailed): {p_value_two_tailed:.4f}\")\n",
    "\n",
    "# Decision: If alpha = 0.05, p_value (0.0719) > alpha, so fail to reject H0.\n",
    "# Conclusion: No significant evidence the coin is unfair."
   ]
  },
  {
   "cell_type": "markdown",
   "id": "7aadd627-299a-45f6-9e10-f5c044e166dc",
   "metadata": {},
   "source": [
    "# Python Playground: Checking for Significance\n",
    "\n",
    "While full statistical tests will be demonstrated later, the basic logic of checking for significance in Python is a simple comparison of the calculated p-value against the chosen alpha.\n",
    "\n"
   ]
  },
  {
   "cell_type": "code",
   "execution_count": 10,
   "id": "ae8ca386-bb8b-4d61-8c43-9111f5ca6bd7",
   "metadata": {},
   "outputs": [
    {
     "name": "stdout",
     "output_type": "stream",
     "text": [
      "Scenario 1: P-value = 0.0324, Alpha = 0.05\n",
      "Decision: Reject the Null Hypothesis. The result is statistically significant.\n",
      "This means the observed effect is unlikely to be due to random chance.\n"
     ]
    }
   ],
   "source": [
    "\n",
    "# This is a conceptual example. Full statistical tests will be shown later.\n",
    "\n",
    "# Assume we have performed a statistical test and obtained a p-value.\n",
    "calculated_p_value_example1 = 0.0324 # Example p-value (e.g., from a t-test result [34])\n",
    "alpha = 0.05 # Our chosen significance level\n",
    "\n",
    "print(f\"Scenario 1: P-value = {calculated_p_value_example1}, Alpha = {alpha}\")\n",
    "if calculated_p_value_example1 < alpha:\n",
    "    print(\"Decision: Reject the Null Hypothesis. The result is statistically significant.\")\n",
    "    print(\"This means the observed effect is unlikely to be due to random chance.\")\n",
    "else:\n",
    "    print(\"Decision: Fail to Reject the Null Hypothesis. The result is not statistically significant.\")\n",
    "    print(\"This means the observed effect could reasonably be due to random chance.\")\n",
    "\n",
    "\n"
   ]
  },
  {
   "cell_type": "code",
   "execution_count": 11,
   "id": "e53015ca-b790-4b5d-b539-8c6a946d95bd",
   "metadata": {},
   "outputs": [
    {
     "name": "stdout",
     "output_type": "stream",
     "text": [
      "Scenario 2: P-value = 0.3834, Alpha = 0.05\n",
      "Decision: Fail to Reject the Null Hypothesis. The result is not statistically significant.\n",
      "This means the observed effect could reasonably be due to random chance.\n"
     ]
    }
   ],
   "source": [
    "# Example with a non-significant p-value\n",
    "calculated_p_value_example2 = 0.3834 # Another example p-value [34]\n",
    "print(f\"Scenario 2: P-value = {calculated_p_value_example2}, Alpha = {alpha}\")\n",
    "if calculated_p_value_example2 < alpha:\n",
    "    print(\"Decision: Reject the Null Hypothesis. The result is statistically significant.\")\n",
    "else:\n",
    "    print(\"Decision: Fail to Reject the Null Hypothesis. The result is not statistically significant.\")\n",
    "    print(\"This means the observed effect could reasonably be due to random chance.\")\n"
   ]
  },
  {
   "cell_type": "code",
   "execution_count": null,
   "id": "ca113e76-45d6-4216-a933-d635258b7dc9",
   "metadata": {},
   "outputs": [],
   "source": []
  }
 ],
 "metadata": {
  "kernelspec": {
   "display_name": "Python 3 (ipykernel)",
   "language": "python",
   "name": "python3"
  },
  "language_info": {
   "codemirror_mode": {
    "name": "ipython",
    "version": 3
   },
   "file_extension": ".py",
   "mimetype": "text/x-python",
   "name": "python",
   "nbconvert_exporter": "python",
   "pygments_lexer": "ipython3",
   "version": "3.12.4"
  }
 },
 "nbformat": 4,
 "nbformat_minor": 5
}
