{
 "cells": [
  {
   "cell_type": "markdown",
   "id": "3ed0edb2-696b-49ab-9db0-681defcce695",
   "metadata": {},
   "source": [
    "![A soccer pitch for an international match.](data/soccer-pitch.jpg)\n",
    "\n",
    "You're working as a sports journalist at a major online sports media company, specializing in soccer analysis and reporting. You've been watching both men's and women's international soccer matches for a number of years, and your gut instinct tells you that more goals are scored in women's international football matches than men's. This would make an interesting investigative article that your subscribers are bound to love, but you'll need to perform a valid statistical hypothesis test to be sure!\n",
    "\n",
    "While scoping this project, you acknowledge that the sport has changed a lot over the years, and performances likely vary a lot depending on the tournament, so you decide to limit the data used in the analysis to only official `FIFA World Cup` matches (not including qualifiers) since `2002-01-01`.\n",
    "\n",
    "You create two datasets containing the results of every official men's and women's international football match since the 19th century, which you scraped from a reliable online source. This data is stored in two CSV files: `women_results.csv` and `men_results.csv`.\n",
    "\n",
    "The question you are trying to determine the answer to is:\n",
    "\n",
    "> Are more goals scored in women's international soccer matches than men's?\n",
    "\n",
    "You assume a **10% significance level**, and use the following null and alternative hypotheses:\n",
    "\n",
    "$H_0$ : The mean number of goals scored in women's international soccer matches is the same as men's.\n",
    "\n",
    "$H_A$ : The mean number of goals scored in women's international soccer matches is greater than men's."
   ]
  },
  {
   "cell_type": "markdown",
   "id": "0006ffa2",
   "metadata": {},
   "source": [
    "# Loading and exploring the data"
   ]
  },
  {
   "cell_type": "code",
   "execution_count": 161,
   "id": "84a3c4c8-534b-4d1a-9919-17e05208b2ca",
   "metadata": {
    "executionCancelledAt": null,
    "executionTime": 60,
    "lastExecutedAt": 1751210055995,
    "lastExecutedByKernel": "75d2e757-635d-4d81-b7de-77dbafbc7e2a",
    "lastScheduledRunId": null,
    "lastSuccessfullyExecutedCode": "# Start your code here!\nimport pandas as pd\n\nmen = pd.read_csv('men_results.csv', parse_dates=[\"date\"])\nwomen = pd.read_csv('women_results.csv', parse_dates=[\"date\"])"
   },
   "outputs": [],
   "source": [
    "# Start your code here!\n",
    "import pandas as pd\n",
    "\n",
    "men = pd.read_csv('men_results.csv', parse_dates=[\"date\"])\n",
    "women = pd.read_csv('women_results.csv', parse_dates=[\"date\"])"
   ]
  },
  {
   "cell_type": "code",
   "execution_count": 162,
   "id": "abe71dc4-5501-4d55-8792-ca92d0777581",
   "metadata": {
    "executionCancelledAt": null,
    "executionTime": 58,
    "lastExecutedAt": 1751210056053,
    "lastExecutedByKernel": "75d2e757-635d-4d81-b7de-77dbafbc7e2a",
    "lastScheduledRunId": null,
    "lastSuccessfullyExecutedCode": "men.head()",
    "outputsMetadata": {
     "0": {
      "height": 550,
      "tableState": {
       "customFilter": {
        "const": {
         "type": "boolean",
         "valid": true,
         "value": true
        },
        "id": "24870209-4cf0-4758-883f-86e781252136",
        "nodeType": "const"
       }
      },
      "type": "dataFrame"
     }
    }
   },
   "outputs": [
    {
     "data": {
      "application/com.datacamp.data-table.v2+json": {
       "table": {
        "data": {
         "Unnamed: 0": [
          0,
          1,
          2,
          3,
          4
         ],
         "away_score": [
          0,
          2,
          1,
          2,
          0
         ],
         "away_team": [
          "England",
          "Scotland",
          "England",
          "Scotland",
          "England"
         ],
         "date": [
          "1872-11-30T00:00:00.000",
          "1873-03-08T00:00:00.000",
          "1874-03-07T00:00:00.000",
          "1875-03-06T00:00:00.000",
          "1876-03-04T00:00:00.000"
         ],
         "home_score": [
          0,
          4,
          2,
          2,
          3
         ],
         "home_team": [
          "Scotland",
          "England",
          "Scotland",
          "England",
          "Scotland"
         ],
         "index": [
          0,
          1,
          2,
          3,
          4
         ],
         "tournament": [
          "Friendly",
          "Friendly",
          "Friendly",
          "Friendly",
          "Friendly"
         ]
        },
        "schema": {
         "fields": [
          {
           "name": "index",
           "type": "integer"
          },
          {
           "name": "Unnamed: 0",
           "type": "integer"
          },
          {
           "name": "date",
           "type": "datetime"
          },
          {
           "name": "home_team",
           "type": "string"
          },
          {
           "name": "away_team",
           "type": "string"
          },
          {
           "name": "home_score",
           "type": "integer"
          },
          {
           "name": "away_score",
           "type": "integer"
          },
          {
           "name": "tournament",
           "type": "string"
          }
         ],
         "pandas_version": "1.4.0",
         "primaryKey": [
          "index"
         ]
        }
       },
       "total_rows": 5,
       "truncation_type": null
      },
      "text/html": [
       "<div>\n",
       "<style scoped>\n",
       "    .dataframe tbody tr th:only-of-type {\n",
       "        vertical-align: middle;\n",
       "    }\n",
       "\n",
       "    .dataframe tbody tr th {\n",
       "        vertical-align: top;\n",
       "    }\n",
       "\n",
       "    .dataframe thead th {\n",
       "        text-align: right;\n",
       "    }\n",
       "</style>\n",
       "<table border=\"1\" class=\"dataframe\">\n",
       "  <thead>\n",
       "    <tr style=\"text-align: right;\">\n",
       "      <th></th>\n",
       "      <th>Unnamed: 0</th>\n",
       "      <th>date</th>\n",
       "      <th>home_team</th>\n",
       "      <th>away_team</th>\n",
       "      <th>home_score</th>\n",
       "      <th>away_score</th>\n",
       "      <th>tournament</th>\n",
       "    </tr>\n",
       "  </thead>\n",
       "  <tbody>\n",
       "    <tr>\n",
       "      <th>0</th>\n",
       "      <td>0</td>\n",
       "      <td>1872-11-30</td>\n",
       "      <td>Scotland</td>\n",
       "      <td>England</td>\n",
       "      <td>0</td>\n",
       "      <td>0</td>\n",
       "      <td>Friendly</td>\n",
       "    </tr>\n",
       "    <tr>\n",
       "      <th>1</th>\n",
       "      <td>1</td>\n",
       "      <td>1873-03-08</td>\n",
       "      <td>England</td>\n",
       "      <td>Scotland</td>\n",
       "      <td>4</td>\n",
       "      <td>2</td>\n",
       "      <td>Friendly</td>\n",
       "    </tr>\n",
       "    <tr>\n",
       "      <th>2</th>\n",
       "      <td>2</td>\n",
       "      <td>1874-03-07</td>\n",
       "      <td>Scotland</td>\n",
       "      <td>England</td>\n",
       "      <td>2</td>\n",
       "      <td>1</td>\n",
       "      <td>Friendly</td>\n",
       "    </tr>\n",
       "    <tr>\n",
       "      <th>3</th>\n",
       "      <td>3</td>\n",
       "      <td>1875-03-06</td>\n",
       "      <td>England</td>\n",
       "      <td>Scotland</td>\n",
       "      <td>2</td>\n",
       "      <td>2</td>\n",
       "      <td>Friendly</td>\n",
       "    </tr>\n",
       "    <tr>\n",
       "      <th>4</th>\n",
       "      <td>4</td>\n",
       "      <td>1876-03-04</td>\n",
       "      <td>Scotland</td>\n",
       "      <td>England</td>\n",
       "      <td>3</td>\n",
       "      <td>0</td>\n",
       "      <td>Friendly</td>\n",
       "    </tr>\n",
       "  </tbody>\n",
       "</table>\n",
       "</div>"
      ],
      "text/plain": [
       "   Unnamed: 0       date home_team away_team  home_score  away_score tournament\n",
       "0           0 1872-11-30  Scotland   England           0           0   Friendly\n",
       "1           1 1873-03-08   England  Scotland           4           2   Friendly\n",
       "2           2 1874-03-07  Scotland   England           2           1   Friendly\n",
       "3           3 1875-03-06   England  Scotland           2           2   Friendly\n",
       "4           4 1876-03-04  Scotland   England           3           0   Friendly"
      ]
     },
     "execution_count": 162,
     "metadata": {
      "application/com.datacamp.data-table.v2+json": {
       "status": "success"
      }
     },
     "output_type": "execute_result"
    }
   ],
   "source": [
    "men.head()"
   ]
  },
  {
   "cell_type": "code",
   "execution_count": 163,
   "id": "c37064c7-0537-4c70-a7c2-a60ec29f715d",
   "metadata": {
    "executionCancelledAt": null,
    "executionTime": 67,
    "lastExecutedAt": 1751210056121,
    "lastExecutedByKernel": "75d2e757-635d-4d81-b7de-77dbafbc7e2a",
    "lastScheduledRunId": null,
    "lastSuccessfullyExecutedCode": "women.head()",
    "outputsMetadata": {
     "0": {
      "height": 550,
      "tableState": {
       "customFilter": {
        "const": {
         "type": "boolean",
         "valid": true,
         "value": true
        },
        "id": "24870209-4cf0-4758-883f-86e781252136",
        "nodeType": "const"
       }
      },
      "type": "dataFrame"
     }
    }
   },
   "outputs": [
    {
     "data": {
      "application/com.datacamp.data-table.v2+json": {
       "table": {
        "data": {
         "Unnamed: 0": [
          0,
          1,
          2,
          3,
          4
         ],
         "away_score": [
          0,
          3,
          0,
          1,
          2
         ],
         "away_team": [
          "France",
          "England",
          "France",
          "Denmark",
          "Australia"
         ],
         "date": [
          "1969-11-01T00:00:00.000",
          "1969-11-01T00:00:00.000",
          "1969-11-02T00:00:00.000",
          "1969-11-02T00:00:00.000",
          "1975-08-25T00:00:00.000"
         ],
         "home_score": [
          1,
          4,
          2,
          3,
          3
         ],
         "home_team": [
          "Italy",
          "Denmark",
          "England",
          "Italy",
          "Thailand"
         ],
         "index": [
          0,
          1,
          2,
          3,
          4
         ],
         "tournament": [
          "Euro",
          "Euro",
          "Euro",
          "Euro",
          "AFC Championship"
         ]
        },
        "schema": {
         "fields": [
          {
           "name": "index",
           "type": "integer"
          },
          {
           "name": "Unnamed: 0",
           "type": "integer"
          },
          {
           "name": "date",
           "type": "datetime"
          },
          {
           "name": "home_team",
           "type": "string"
          },
          {
           "name": "away_team",
           "type": "string"
          },
          {
           "name": "home_score",
           "type": "integer"
          },
          {
           "name": "away_score",
           "type": "integer"
          },
          {
           "name": "tournament",
           "type": "string"
          }
         ],
         "pandas_version": "1.4.0",
         "primaryKey": [
          "index"
         ]
        }
       },
       "total_rows": 5,
       "truncation_type": null
      },
      "text/html": [
       "<div>\n",
       "<style scoped>\n",
       "    .dataframe tbody tr th:only-of-type {\n",
       "        vertical-align: middle;\n",
       "    }\n",
       "\n",
       "    .dataframe tbody tr th {\n",
       "        vertical-align: top;\n",
       "    }\n",
       "\n",
       "    .dataframe thead th {\n",
       "        text-align: right;\n",
       "    }\n",
       "</style>\n",
       "<table border=\"1\" class=\"dataframe\">\n",
       "  <thead>\n",
       "    <tr style=\"text-align: right;\">\n",
       "      <th></th>\n",
       "      <th>Unnamed: 0</th>\n",
       "      <th>date</th>\n",
       "      <th>home_team</th>\n",
       "      <th>away_team</th>\n",
       "      <th>home_score</th>\n",
       "      <th>away_score</th>\n",
       "      <th>tournament</th>\n",
       "    </tr>\n",
       "  </thead>\n",
       "  <tbody>\n",
       "    <tr>\n",
       "      <th>0</th>\n",
       "      <td>0</td>\n",
       "      <td>1969-11-01</td>\n",
       "      <td>Italy</td>\n",
       "      <td>France</td>\n",
       "      <td>1</td>\n",
       "      <td>0</td>\n",
       "      <td>Euro</td>\n",
       "    </tr>\n",
       "    <tr>\n",
       "      <th>1</th>\n",
       "      <td>1</td>\n",
       "      <td>1969-11-01</td>\n",
       "      <td>Denmark</td>\n",
       "      <td>England</td>\n",
       "      <td>4</td>\n",
       "      <td>3</td>\n",
       "      <td>Euro</td>\n",
       "    </tr>\n",
       "    <tr>\n",
       "      <th>2</th>\n",
       "      <td>2</td>\n",
       "      <td>1969-11-02</td>\n",
       "      <td>England</td>\n",
       "      <td>France</td>\n",
       "      <td>2</td>\n",
       "      <td>0</td>\n",
       "      <td>Euro</td>\n",
       "    </tr>\n",
       "    <tr>\n",
       "      <th>3</th>\n",
       "      <td>3</td>\n",
       "      <td>1969-11-02</td>\n",
       "      <td>Italy</td>\n",
       "      <td>Denmark</td>\n",
       "      <td>3</td>\n",
       "      <td>1</td>\n",
       "      <td>Euro</td>\n",
       "    </tr>\n",
       "    <tr>\n",
       "      <th>4</th>\n",
       "      <td>4</td>\n",
       "      <td>1975-08-25</td>\n",
       "      <td>Thailand</td>\n",
       "      <td>Australia</td>\n",
       "      <td>3</td>\n",
       "      <td>2</td>\n",
       "      <td>AFC Championship</td>\n",
       "    </tr>\n",
       "  </tbody>\n",
       "</table>\n",
       "</div>"
      ],
      "text/plain": [
       "   Unnamed: 0       date home_team  ... home_score  away_score        tournament\n",
       "0           0 1969-11-01     Italy  ...          1           0              Euro\n",
       "1           1 1969-11-01   Denmark  ...          4           3              Euro\n",
       "2           2 1969-11-02   England  ...          2           0              Euro\n",
       "3           3 1969-11-02     Italy  ...          3           1              Euro\n",
       "4           4 1975-08-25  Thailand  ...          3           2  AFC Championship\n",
       "\n",
       "[5 rows x 7 columns]"
      ]
     },
     "execution_count": 163,
     "metadata": {
      "application/com.datacamp.data-table.v2+json": {
       "status": "success"
      }
     },
     "output_type": "execute_result"
    }
   ],
   "source": [
    "women.head()"
   ]
  },
  {
   "cell_type": "code",
   "execution_count": 164,
   "id": "6b5b61b4-7418-466a-9877-2f7436161272",
   "metadata": {
    "executionCancelledAt": null,
    "executionTime": 48,
    "lastExecutedAt": 1751210056169,
    "lastExecutedByKernel": "75d2e757-635d-4d81-b7de-77dbafbc7e2a",
    "lastScheduledRunId": null,
    "lastSuccessfullyExecutedCode": "men.info()",
    "outputsMetadata": {
     "0": {
      "height": 311,
      "type": "stream"
     }
    }
   },
   "outputs": [
    {
     "name": "stdout",
     "output_type": "stream",
     "text": [
      "<class 'pandas.core.frame.DataFrame'>\n",
      "RangeIndex: 44353 entries, 0 to 44352\n",
      "Data columns (total 7 columns):\n",
      " #   Column      Non-Null Count  Dtype         \n",
      "---  ------      --------------  -----         \n",
      " 0   Unnamed: 0  44353 non-null  int64         \n",
      " 1   date        44353 non-null  datetime64[ns]\n",
      " 2   home_team   44353 non-null  object        \n",
      " 3   away_team   44353 non-null  object        \n",
      " 4   home_score  44353 non-null  int64         \n",
      " 5   away_score  44353 non-null  int64         \n",
      " 6   tournament  44353 non-null  object        \n",
      "dtypes: datetime64[ns](1), int64(3), object(3)\n",
      "memory usage: 2.4+ MB\n"
     ]
    }
   ],
   "source": [
    "men.info()"
   ]
  },
  {
   "cell_type": "code",
   "execution_count": 165,
   "id": "00430a4c-297b-437f-9536-1b091f255bec",
   "metadata": {
    "executionCancelledAt": null,
    "executionTime": 48,
    "lastExecutedAt": 1751210056217,
    "lastExecutedByKernel": "75d2e757-635d-4d81-b7de-77dbafbc7e2a",
    "lastScheduledRunId": null,
    "lastSuccessfullyExecutedCode": "women.info()",
    "outputsMetadata": {
     "0": {
      "height": 311,
      "type": "stream"
     }
    }
   },
   "outputs": [
    {
     "name": "stdout",
     "output_type": "stream",
     "text": [
      "<class 'pandas.core.frame.DataFrame'>\n",
      "RangeIndex: 4884 entries, 0 to 4883\n",
      "Data columns (total 7 columns):\n",
      " #   Column      Non-Null Count  Dtype         \n",
      "---  ------      --------------  -----         \n",
      " 0   Unnamed: 0  4884 non-null   int64         \n",
      " 1   date        4884 non-null   datetime64[ns]\n",
      " 2   home_team   4884 non-null   object        \n",
      " 3   away_team   4884 non-null   object        \n",
      " 4   home_score  4884 non-null   int64         \n",
      " 5   away_score  4884 non-null   int64         \n",
      " 6   tournament  4884 non-null   object        \n",
      "dtypes: datetime64[ns](1), int64(3), object(3)\n",
      "memory usage: 267.2+ KB\n"
     ]
    }
   ],
   "source": [
    "women.info()"
   ]
  },
  {
   "cell_type": "code",
   "execution_count": 166,
   "id": "0f9d426f-021f-4851-95d2-fa206f43ab6e",
   "metadata": {
    "executionCancelledAt": null,
    "executionTime": 48,
    "lastExecutedAt": 1751210056265,
    "lastExecutedByKernel": "75d2e757-635d-4d81-b7de-77dbafbc7e2a",
    "lastScheduledRunId": null,
    "lastSuccessfullyExecutedCode": "for col in men.select_dtypes(include='object').columns:\n    print(f\"Value counts for column '{col}':\")\n    print(men[col].value_counts())\n    print()  # Blank line for readability\n",
    "outputsMetadata": {
     "0": {
      "height": 520,
      "type": "stream"
     }
    }
   },
   "outputs": [
    {
     "name": "stdout",
     "output_type": "stream",
     "text": [
      "Value counts for column 'home_team':\n",
      "Brazil                       594\n",
      "Argentina                    570\n",
      "Mexico                       555\n",
      "Germany                      526\n",
      "England                      525\n",
      "                            ... \n",
      "Chameria                       1\n",
      "Romani people                  1\n",
      "Saint Pierre and Miquelon      1\n",
      "Western Australia              1\n",
      "Madrid                         1\n",
      "Name: home_team, Length: 311, dtype: int64\n",
      "\n",
      "Value counts for column 'away_team':\n",
      "Uruguay          560\n",
      "Sweden           547\n",
      "England          524\n",
      "Hungary          491\n",
      "Paraguay         474\n",
      "                ... \n",
      "Barawa             1\n",
      "Surrey             1\n",
      "Central Spain      1\n",
      "Andalusia          1\n",
      "Aymara             1\n",
      "Name: away_team, Length: 306, dtype: int64\n",
      "\n",
      "Value counts for column 'tournament':\n",
      "Friendly                                17519\n",
      "FIFA World Cup qualification             7878\n",
      "UEFA Euro qualification                  2585\n",
      "African Cup of Nations qualification     1932\n",
      "FIFA World Cup                            964\n",
      "                                        ...  \n",
      "Real Madrid 75th Anniversary Cup            1\n",
      "Évence Coppée Trophy                        1\n",
      "Copa Confraternidad                         1\n",
      "TIFOCO Tournament                           1\n",
      "FIFA 75th Anniversary Cup                   1\n",
      "Name: tournament, Length: 141, dtype: int64\n",
      "\n"
     ]
    }
   ],
   "source": [
    "for col in men.select_dtypes(include='object').columns:\n",
    "    print(f\"Value counts for column '{col}':\")\n",
    "    print(men[col].value_counts())\n",
    "    print()  # Blank line for readability\n"
   ]
  },
  {
   "cell_type": "code",
   "execution_count": 167,
   "id": "7caf0349-b485-4256-ae0d-27792c5996a3",
   "metadata": {
    "executionCancelledAt": null,
    "executionTime": 53,
    "lastExecutedAt": 1751210056319,
    "lastExecutedByKernel": "75d2e757-635d-4d81-b7de-77dbafbc7e2a",
    "lastScheduledRunId": null,
    "lastSuccessfullyExecutedCode": "for col in men.select_dtypes(include='object').columns:\n    print(f\"Value counts for column '{col}':\")\n    print(men[col].nunique())\n    print()  # Blank line for readability\n",
    "outputsMetadata": {
     "0": {
      "height": 206,
      "type": "stream"
     }
    }
   },
   "outputs": [
    {
     "name": "stdout",
     "output_type": "stream",
     "text": [
      "Value counts for column 'home_team':\n",
      "311\n",
      "\n",
      "Value counts for column 'away_team':\n",
      "306\n",
      "\n",
      "Value counts for column 'tournament':\n",
      "141\n",
      "\n"
     ]
    }
   ],
   "source": [
    "for col in men.select_dtypes(include='object').columns:\n",
    "    print(f\"Value counts for column '{col}':\")\n",
    "    print(men[col].nunique())\n",
    "    print()  # Blank line for readability\n"
   ]
  },
  {
   "cell_type": "code",
   "execution_count": 168,
   "id": "ea916e3a-8ac5-460a-8c44-096e78a7629f",
   "metadata": {
    "executionCancelledAt": null,
    "executionTime": 58,
    "lastExecutedAt": 1751210056377,
    "lastExecutedByKernel": "75d2e757-635d-4d81-b7de-77dbafbc7e2a",
    "lastScheduledRunId": null,
    "lastSuccessfullyExecutedCode": "filtered_men = men[(men['tournament'] == 'FIFA World Cup') & (men['date'] > \"2002-01-01\")]"
   },
   "outputs": [],
   "source": [
    "filtered_men = men[(men['tournament'] == 'FIFA World Cup') & (men['date'] > \"2002-01-01\")]"
   ]
  },
  {
   "cell_type": "code",
   "execution_count": 169,
   "id": "1cb9d37e-847a-4774-ba6b-a2124618ca17",
   "metadata": {
    "executionCancelledAt": null,
    "executionTime": 52,
    "lastExecutedAt": 1751210056429,
    "lastExecutedByKernel": "75d2e757-635d-4d81-b7de-77dbafbc7e2a",
    "lastScheduledRunId": null,
    "lastSuccessfullyExecutedCode": "filtered_women = women[(women['tournament'] == 'FIFA World Cup') & (women['date'] > '2002-01-01')]"
   },
   "outputs": [],
   "source": [
    "filtered_women = women[(women['tournament'] == 'FIFA World Cup') & (women['date'] > '2002-01-01')]"
   ]
  },
  {
   "cell_type": "code",
   "execution_count": 170,
   "id": "460422fb-0a18-444c-8a59-09a9ff38fa4b",
   "metadata": {
    "executionCancelledAt": null,
    "executionTime": 57,
    "lastExecutedAt": 1751210056486,
    "lastExecutedByKernel": "75d2e757-635d-4d81-b7de-77dbafbc7e2a",
    "lastScheduledRunId": null,
    "lastSuccessfullyExecutedCode": "filtered_men.head()",
    "outputsMetadata": {
     "0": {
      "height": 50,
      "tableState": {
       "customFilter": {
        "const": {
         "type": "boolean",
         "valid": true,
         "value": true
        },
        "id": "24870209-4cf0-4758-883f-86e781252136",
        "nodeType": "const"
       }
      },
      "type": "dataFrame"
     }
    }
   },
   "outputs": [
    {
     "data": {
      "application/com.datacamp.data-table.v2+json": {
       "table": {
        "data": {
         "Unnamed: 0": [
          25164,
          25165,
          25166,
          25167,
          25168
         ],
         "away_score": [
          1,
          0,
          1,
          2,
          0
         ],
         "away_team": [
          "Senegal",
          "Saudi Arabia",
          "Cameroon",
          "Denmark",
          "Nigeria"
         ],
         "date": [
          "2002-05-31T00:00:00.000",
          "2002-06-01T00:00:00.000",
          "2002-06-01T00:00:00.000",
          "2002-06-01T00:00:00.000",
          "2002-06-02T00:00:00.000"
         ],
         "home_score": [
          0,
          8,
          1,
          1,
          1
         ],
         "home_team": [
          "France",
          "Germany",
          "Republic of Ireland",
          "Uruguay",
          "Argentina"
         ],
         "index": [
          25164,
          25165,
          25166,
          25167,
          25168
         ],
         "tournament": [
          "FIFA World Cup",
          "FIFA World Cup",
          "FIFA World Cup",
          "FIFA World Cup",
          "FIFA World Cup"
         ]
        },
        "schema": {
         "fields": [
          {
           "name": "index",
           "type": "integer"
          },
          {
           "name": "Unnamed: 0",
           "type": "integer"
          },
          {
           "name": "date",
           "type": "datetime"
          },
          {
           "name": "home_team",
           "type": "string"
          },
          {
           "name": "away_team",
           "type": "string"
          },
          {
           "name": "home_score",
           "type": "integer"
          },
          {
           "name": "away_score",
           "type": "integer"
          },
          {
           "name": "tournament",
           "type": "string"
          }
         ],
         "pandas_version": "1.4.0",
         "primaryKey": [
          "index"
         ]
        }
       },
       "total_rows": 5,
       "truncation_type": null
      },
      "text/html": [
       "<div>\n",
       "<style scoped>\n",
       "    .dataframe tbody tr th:only-of-type {\n",
       "        vertical-align: middle;\n",
       "    }\n",
       "\n",
       "    .dataframe tbody tr th {\n",
       "        vertical-align: top;\n",
       "    }\n",
       "\n",
       "    .dataframe thead th {\n",
       "        text-align: right;\n",
       "    }\n",
       "</style>\n",
       "<table border=\"1\" class=\"dataframe\">\n",
       "  <thead>\n",
       "    <tr style=\"text-align: right;\">\n",
       "      <th></th>\n",
       "      <th>Unnamed: 0</th>\n",
       "      <th>date</th>\n",
       "      <th>home_team</th>\n",
       "      <th>away_team</th>\n",
       "      <th>home_score</th>\n",
       "      <th>away_score</th>\n",
       "      <th>tournament</th>\n",
       "    </tr>\n",
       "  </thead>\n",
       "  <tbody>\n",
       "    <tr>\n",
       "      <th>25164</th>\n",
       "      <td>25164</td>\n",
       "      <td>2002-05-31</td>\n",
       "      <td>France</td>\n",
       "      <td>Senegal</td>\n",
       "      <td>0</td>\n",
       "      <td>1</td>\n",
       "      <td>FIFA World Cup</td>\n",
       "    </tr>\n",
       "    <tr>\n",
       "      <th>25165</th>\n",
       "      <td>25165</td>\n",
       "      <td>2002-06-01</td>\n",
       "      <td>Germany</td>\n",
       "      <td>Saudi Arabia</td>\n",
       "      <td>8</td>\n",
       "      <td>0</td>\n",
       "      <td>FIFA World Cup</td>\n",
       "    </tr>\n",
       "    <tr>\n",
       "      <th>25166</th>\n",
       "      <td>25166</td>\n",
       "      <td>2002-06-01</td>\n",
       "      <td>Republic of Ireland</td>\n",
       "      <td>Cameroon</td>\n",
       "      <td>1</td>\n",
       "      <td>1</td>\n",
       "      <td>FIFA World Cup</td>\n",
       "    </tr>\n",
       "    <tr>\n",
       "      <th>25167</th>\n",
       "      <td>25167</td>\n",
       "      <td>2002-06-01</td>\n",
       "      <td>Uruguay</td>\n",
       "      <td>Denmark</td>\n",
       "      <td>1</td>\n",
       "      <td>2</td>\n",
       "      <td>FIFA World Cup</td>\n",
       "    </tr>\n",
       "    <tr>\n",
       "      <th>25168</th>\n",
       "      <td>25168</td>\n",
       "      <td>2002-06-02</td>\n",
       "      <td>Argentina</td>\n",
       "      <td>Nigeria</td>\n",
       "      <td>1</td>\n",
       "      <td>0</td>\n",
       "      <td>FIFA World Cup</td>\n",
       "    </tr>\n",
       "  </tbody>\n",
       "</table>\n",
       "</div>"
      ],
      "text/plain": [
       "       Unnamed: 0       date  ... away_score      tournament\n",
       "25164       25164 2002-05-31  ...          1  FIFA World Cup\n",
       "25165       25165 2002-06-01  ...          0  FIFA World Cup\n",
       "25166       25166 2002-06-01  ...          1  FIFA World Cup\n",
       "25167       25167 2002-06-01  ...          2  FIFA World Cup\n",
       "25168       25168 2002-06-02  ...          0  FIFA World Cup\n",
       "\n",
       "[5 rows x 7 columns]"
      ]
     },
     "execution_count": 170,
     "metadata": {
      "application/com.datacamp.data-table.v2+json": {
       "status": "success"
      }
     },
     "output_type": "execute_result"
    }
   ],
   "source": [
    "filtered_men.head()"
   ]
  },
  {
   "cell_type": "code",
   "execution_count": 171,
   "id": "5f2ad96e-53d3-46d8-84ec-79a811703807",
   "metadata": {
    "executionCancelledAt": null,
    "executionTime": 51,
    "lastExecutedAt": 1751210056537,
    "lastExecutedByKernel": "75d2e757-635d-4d81-b7de-77dbafbc7e2a",
    "lastScheduledRunId": null,
    "lastSuccessfullyExecutedCode": "filtered_women.head()",
    "outputsMetadata": {
     "0": {
      "height": 50,
      "tableState": {
       "customFilter": {
        "const": {
         "type": "boolean",
         "valid": true,
         "value": true
        },
        "id": "24870209-4cf0-4758-883f-86e781252136",
        "nodeType": "const"
       }
      },
      "type": "dataFrame"
     }
    }
   },
   "outputs": [
    {
     "data": {
      "application/com.datacamp.data-table.v2+json": {
       "table": {
        "data": {
         "Unnamed: 0": [
          1600,
          1601,
          1602,
          1603,
          1604
         ],
         "away_score": [
          3,
          0,
          1,
          0,
          1
         ],
         "away_team": [
          "North Korea",
          "France",
          "Canada",
          "Argentina",
          "Sweden"
         ],
         "date": [
          "2003-09-20T00:00:00.000",
          "2003-09-20T00:00:00.000",
          "2003-09-20T00:00:00.000",
          "2003-09-20T00:00:00.000",
          "2003-09-21T00:00:00.000"
         ],
         "home_score": [
          0,
          2,
          4,
          6,
          3
         ],
         "home_team": [
          "Nigeria",
          "Norway",
          "Germany",
          "Japan",
          "United States"
         ],
         "index": [
          1600,
          1601,
          1602,
          1603,
          1604
         ],
         "tournament": [
          "FIFA World Cup",
          "FIFA World Cup",
          "FIFA World Cup",
          "FIFA World Cup",
          "FIFA World Cup"
         ]
        },
        "schema": {
         "fields": [
          {
           "name": "index",
           "type": "integer"
          },
          {
           "name": "Unnamed: 0",
           "type": "integer"
          },
          {
           "name": "date",
           "type": "datetime"
          },
          {
           "name": "home_team",
           "type": "string"
          },
          {
           "name": "away_team",
           "type": "string"
          },
          {
           "name": "home_score",
           "type": "integer"
          },
          {
           "name": "away_score",
           "type": "integer"
          },
          {
           "name": "tournament",
           "type": "string"
          }
         ],
         "pandas_version": "1.4.0",
         "primaryKey": [
          "index"
         ]
        }
       },
       "total_rows": 5,
       "truncation_type": null
      },
      "text/html": [
       "<div>\n",
       "<style scoped>\n",
       "    .dataframe tbody tr th:only-of-type {\n",
       "        vertical-align: middle;\n",
       "    }\n",
       "\n",
       "    .dataframe tbody tr th {\n",
       "        vertical-align: top;\n",
       "    }\n",
       "\n",
       "    .dataframe thead th {\n",
       "        text-align: right;\n",
       "    }\n",
       "</style>\n",
       "<table border=\"1\" class=\"dataframe\">\n",
       "  <thead>\n",
       "    <tr style=\"text-align: right;\">\n",
       "      <th></th>\n",
       "      <th>Unnamed: 0</th>\n",
       "      <th>date</th>\n",
       "      <th>home_team</th>\n",
       "      <th>away_team</th>\n",
       "      <th>home_score</th>\n",
       "      <th>away_score</th>\n",
       "      <th>tournament</th>\n",
       "    </tr>\n",
       "  </thead>\n",
       "  <tbody>\n",
       "    <tr>\n",
       "      <th>1600</th>\n",
       "      <td>1600</td>\n",
       "      <td>2003-09-20</td>\n",
       "      <td>Nigeria</td>\n",
       "      <td>North Korea</td>\n",
       "      <td>0</td>\n",
       "      <td>3</td>\n",
       "      <td>FIFA World Cup</td>\n",
       "    </tr>\n",
       "    <tr>\n",
       "      <th>1601</th>\n",
       "      <td>1601</td>\n",
       "      <td>2003-09-20</td>\n",
       "      <td>Norway</td>\n",
       "      <td>France</td>\n",
       "      <td>2</td>\n",
       "      <td>0</td>\n",
       "      <td>FIFA World Cup</td>\n",
       "    </tr>\n",
       "    <tr>\n",
       "      <th>1602</th>\n",
       "      <td>1602</td>\n",
       "      <td>2003-09-20</td>\n",
       "      <td>Germany</td>\n",
       "      <td>Canada</td>\n",
       "      <td>4</td>\n",
       "      <td>1</td>\n",
       "      <td>FIFA World Cup</td>\n",
       "    </tr>\n",
       "    <tr>\n",
       "      <th>1603</th>\n",
       "      <td>1603</td>\n",
       "      <td>2003-09-20</td>\n",
       "      <td>Japan</td>\n",
       "      <td>Argentina</td>\n",
       "      <td>6</td>\n",
       "      <td>0</td>\n",
       "      <td>FIFA World Cup</td>\n",
       "    </tr>\n",
       "    <tr>\n",
       "      <th>1604</th>\n",
       "      <td>1604</td>\n",
       "      <td>2003-09-21</td>\n",
       "      <td>United States</td>\n",
       "      <td>Sweden</td>\n",
       "      <td>3</td>\n",
       "      <td>1</td>\n",
       "      <td>FIFA World Cup</td>\n",
       "    </tr>\n",
       "  </tbody>\n",
       "</table>\n",
       "</div>"
      ],
      "text/plain": [
       "      Unnamed: 0       date  ... away_score      tournament\n",
       "1600        1600 2003-09-20  ...          3  FIFA World Cup\n",
       "1601        1601 2003-09-20  ...          0  FIFA World Cup\n",
       "1602        1602 2003-09-20  ...          1  FIFA World Cup\n",
       "1603        1603 2003-09-20  ...          0  FIFA World Cup\n",
       "1604        1604 2003-09-21  ...          1  FIFA World Cup\n",
       "\n",
       "[5 rows x 7 columns]"
      ]
     },
     "execution_count": 171,
     "metadata": {
      "application/com.datacamp.data-table.v2+json": {
       "status": "success"
      }
     },
     "output_type": "execute_result"
    }
   ],
   "source": [
    "filtered_women.head()"
   ]
  },
  {
   "cell_type": "code",
   "execution_count": 172,
   "id": "d1310623-f242-4fb5-9cf1-e56a1b4e88ae",
   "metadata": {
    "executionCancelledAt": null,
    "executionTime": 52,
    "lastExecutedAt": 1751210056589,
    "lastExecutedByKernel": "75d2e757-635d-4d81-b7de-77dbafbc7e2a",
    "lastScheduledRunId": null,
    "lastSuccessfullyExecutedCode": "filtered_men['total_goals'] = men['home_score'] + men['away_score']\nfiltered_women['total_goals'] = women['home_score'] + women['away_score']"
   },
   "outputs": [],
   "source": [
    "filtered_men['total_goals'] = men['home_score'] + men['away_score']\n",
    "filtered_women['total_goals'] = women['home_score'] + women['away_score']"
   ]
  },
  {
   "cell_type": "markdown",
   "id": "972f81a2-efd8-4726-a1a9-223f95d0a8dd",
   "metadata": {},
   "source": [
    "## Determining the type of hypothesis test to conduct based on the data\n"
   ]
  },
  {
   "cell_type": "code",
   "execution_count": 173,
   "id": "b091ad97-642a-4427-9a20-bcf09eadf0c8",
   "metadata": {
    "executionCancelledAt": null,
    "executionTime": 56,
    "lastExecutedAt": 1751210056646,
    "lastExecutedByKernel": "75d2e757-635d-4d81-b7de-77dbafbc7e2a",
    "lastScheduledRunId": null,
    "lastSuccessfullyExecutedCode": "print(filtered_men.shape[0])\n",
    "outputsMetadata": {
     "0": {
      "height": 38,
      "type": "stream"
     }
    }
   },
   "outputs": [
    {
     "name": "stdout",
     "output_type": "stream",
     "text": [
      "384\n"
     ]
    }
   ],
   "source": [
    "print(filtered_men.shape[0])\n"
   ]
  },
  {
   "cell_type": "code",
   "execution_count": 174,
   "id": "31c4122e-626b-4477-9f5c-a878bc7a630c",
   "metadata": {
    "executionCancelledAt": null,
    "executionTime": 52,
    "lastExecutedAt": 1751210056698,
    "lastExecutedByKernel": "75d2e757-635d-4d81-b7de-77dbafbc7e2a",
    "lastScheduledRunId": null,
    "lastSuccessfullyExecutedCode": "print(filtered_women.shape[0])\n",
    "outputsMetadata": {
     "0": {
      "height": 38,
      "type": "stream"
     }
    }
   },
   "outputs": [
    {
     "name": "stdout",
     "output_type": "stream",
     "text": [
      "200\n"
     ]
    }
   ],
   "source": [
    "print(filtered_women.shape[0])\n"
   ]
  },
  {
   "cell_type": "code",
   "execution_count": 175,
   "id": "ead14e8f-b7a8-4e06-8e51-f180bcb5e09e",
   "metadata": {
    "executionCancelledAt": null,
    "executionTime": 913,
    "lastExecutedAt": 1751210057611,
    "lastExecutedByKernel": "75d2e757-635d-4d81-b7de-77dbafbc7e2a",
    "lastScheduledRunId": null,
    "lastSuccessfullyExecutedCode": "import seaborn as sns\nimport matplotlib.pyplot as plt\nimport scipy.stats as stats\n\n# Replace 'some_metric' with your actual numeric column\nmetric = 'total_goals'\n\n# Set up the figure\nfig, axes = plt.subplots(2, 2, figsize=(12, 8))\n\n# Histogram for men\nsns.histplot(filtered_men[metric], kde=True, ax=axes[0, 0], color='blue')\naxes[0, 0].set_title(\"Men's Histogram\")\n\n# Histogram for women\nsns.histplot(filtered_women[metric], kde=True, ax=axes[0, 1], color='magenta')\naxes[0, 1].set_title(\"Women's Histogram\")\n\n# Q-Q plot for men\nstats.probplot(filtered_men[metric], dist=\"norm\", plot=axes[1, 0])\naxes[1, 0].set_title(\"Men's Q-Q Plot\")\n\n# Q-Q plot for women\nstats.probplot(filtered_women[metric], dist=\"norm\", plot=axes[1, 1])\naxes[1, 1].set_title(\"Women's Q-Q Plot\")\n\n# Adjust layout\nplt.tight_layout()\nplt.show()"
   },
   "outputs": [
    {
     "data": {
      "image/png": "[encoded data removed]",
      "text/plain": [
       "<Figure size 1200x800 with 4 Axes>"
      ]
     },
     "metadata": {
      "image/png": {
       "height": 788,
       "width": 1188
      }
     },
     "output_type": "display_data"
    }
   ],
   "source": [
    "import seaborn as sns\n",
    "import matplotlib.pyplot as plt\n",
    "import scipy.stats as stats\n",
    "\n",
    "# Replace 'some_metric' with your actual numeric column\n",
    "metric = 'total_goals'\n",
    "\n",
    "# Set up the figure\n",
    "fig, axes = plt.subplots(2, 2, figsize=(12, 8))\n",
    "\n",
    "# Histogram for men\n",
    "sns.histplot(filtered_men[metric], kde=True, ax=axes[0, 0], color='blue')\n",
    "axes[0, 0].set_title(\"Men's Histogram\")\n",
    "\n",
    "# Histogram for women\n",
    "sns.histplot(filtered_women[metric], kde=True, ax=axes[0, 1], color='magenta')\n",
    "axes[0, 1].set_title(\"Women's Histogram\")\n",
    "\n",
    "# Q-Q plot for men\n",
    "stats.probplot(filtered_men[metric], dist=\"norm\", plot=axes[1, 0])\n",
    "axes[1, 0].set_title(\"Men's Q-Q Plot\")\n",
    "\n",
    "# Q-Q plot for women\n",
    "stats.probplot(filtered_women[metric], dist=\"norm\", plot=axes[1, 1])\n",
    "axes[1, 1].set_title(\"Women's Q-Q Plot\")\n",
    "\n",
    "# Adjust layout\n",
    "plt.tight_layout()\n",
    "plt.show()"
   ]
  },
  {
   "cell_type": "markdown",
   "id": "8440bb21-7714-4d54-83e3-f6ac8740150a",
   "metadata": {},
   "source": [
    "The data does not follow normal distribution based on the diagrams above, the best type of test to use here is **Mann-Whitney U test** which is a non-parametric alternative to the unpaired t-test."
   ]
  },
  {
   "cell_type": "code",
   "execution_count": 176,
   "id": "f44cfe14-094d-4dc3-a949-aa569c4ef784",
   "metadata": {
    "executionCancelledAt": null,
    "executionTime": 50,
    "lastExecutedAt": 1751210057661,
    "lastExecutedByKernel": "75d2e757-635d-4d81-b7de-77dbafbc7e2a",
    "lastScheduledRunId": null,
    "lastSuccessfullyExecutedCode": "from scipy.stats import mannwhitneyu\n\nalpha = 0.10\n\nu_stat, p_value  = mannwhitneyu(filtered_women['total_goals'], filtered_men['total_goals'], alternative='greater')\n\nprint(\"Mann-Whitney U p-value:\", p_value )\n",
    "outputsMetadata": {
     "0": {
      "height": 38,
      "type": "stream"
     }
    }
   },
   "outputs": [
    {
     "name": "stdout",
     "output_type": "stream",
     "text": [
      "Mann-Whitney U p-value: 0.005106609825443641\n"
     ]
    }
   ],
   "source": [
    "from scipy.stats import mannwhitneyu\n",
    "\n",
    "alpha = 0.10\n",
    "\n",
    "u_stat, p_value  = mannwhitneyu(filtered_women['total_goals'], filtered_men['total_goals'], alternative='greater')\n",
    "\n",
    "print(\"Mann-Whitney U p-value:\", p_value )\n"
   ]
  },
  {
   "cell_type": "code",
   "execution_count": 180,
   "id": "e4758562-dad2-40d9-b029-e08498654f06",
   "metadata": {
    "executionCancelledAt": null,
    "executionTime": null,
    "lastExecutedAt": null,
    "lastExecutedByKernel": null,
    "lastScheduledRunId": null,
    "lastSuccessfullyExecutedCode": null,
    "outputsMetadata": {
     "0": {
      "height": 59,
      "type": "stream"
     }
    }
   },
   "outputs": [
    {
     "name": "stdout",
     "output_type": "stream",
     "text": [
      "Reject the null hypothesis: Women score significantly more goals than men.\n",
      "reject\n"
     ]
    }
   ],
   "source": [
    "if p_value < alpha:\n",
    "    result = \"reject\"\n",
    "    print(\"Reject the null hypothesis: Women score significantly more goals than men.\")\n",
    "    print(result)\n",
    "else:\n",
    "    result = \"fail to reject\"\n",
    "    print(\"Fail to reject the null hypothesis: Not enough evidence that women score more goals than men.\")\n",
    "    print(result)"
   ]
  },
  {
   "cell_type": "code",
   "execution_count": 178,
   "id": "157841f4-4f18-4c2b-b50d-3da2403670f8",
   "metadata": {
    "executionCancelledAt": null,
    "executionTime": 48,
    "lastExecutedAt": 1751210057761,
    "lastExecutedByKernel": "75d2e757-635d-4d81-b7de-77dbafbc7e2a",
    "lastScheduledRunId": null,
    "lastSuccessfullyExecutedCode": "result_dict = {\"p_val\": p_value , \"result\": result}"
   },
   "outputs": [],
   "source": [
    "result_dict = {\"p_val\": p_value , \"result\": result}"
   ]
  }
 ],
 "metadata": {
  "colab": {
   "name": "Welcome to DataCamp Workspaces.ipynb",
   "provenance": []
  },
  "kernelspec": {
   "display_name": "Python 3 (ipykernel)",
   "language": "python",
   "name": "python3"
  },
  "language_info": {
   "codemirror_mode": {
    "name": "ipython",
    "version": 3
   },
   "file_extension": ".py",
   "mimetype": "text/x-python",
   "name": "python",
   "nbconvert_exporter": "python",
   "pygments_lexer": "ipython3",
   "version": "3.8.10"
  }
 },
 "nbformat": 4,
 "nbformat_minor": 5
}
